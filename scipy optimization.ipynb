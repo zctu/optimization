{
 "cells": [
  {
   "cell_type": "markdown",
   "metadata": {},
   "source": [
    "SciPy optimize provides functions for minimizing (or maximizing) objective functions, possibly subject to constraints. It includes solvers for nonlinear problems (with support for both local and global optimization algorithms), linear programing, constrained and nonlinear least-squares, root finding and curve fitting.\n",
    "\n",
    "Common functions and objects, shared across different solvers, are:\n",
    "\n",
    "* show_options([solver, method, disp]):Show documentation for additional options of optimization solvers. solver: Type of optimization solver. One of ‘minimize’, ‘minimize_scalar’, ‘root’, or ‘linprog’.\n",
    "\n",
    "* OptimizeResult: Represents the optimization result.\n",
    "\n",
    "* OptimizeWarning"
   ]
  },
  {
   "cell_type": "code",
   "execution_count": 10,
   "metadata": {},
   "outputs": [
    {
     "name": "stdout",
     "output_type": "stream",
     "text": [
      "Options\n",
      "-------\n",
      "maxiter : int\n",
      "    Maximum number of iterations to perform.\n",
      "xtol : float\n",
      "    Relative error in solution `xopt` acceptable for convergence.\n",
      "\n",
      "Notes\n",
      "-----\n",
      "Uses inverse parabolic interpolation when possible to speed up\n",
      "convergence of golden section method.\n"
     ]
    }
   ],
   "source": [
    "from scipy.optimize import *\n",
    "show_options('minimize_scalar','brent') "
   ]
  },
  {
   "cell_type": "markdown",
   "metadata": {},
   "source": [
    "# minimize_scalar"
   ]
  },
  {
   "cell_type": "code",
   "execution_count": 12,
   "metadata": {},
   "outputs": [
    {
     "data": {
      "text/plain": [
       "0.6999999997839409"
      ]
     },
     "execution_count": 12,
     "metadata": {},
     "output_type": "execute_result"
    }
   ],
   "source": [
    "from scipy import optimize\n",
    "def f(x):\n",
    "    return -np.exp(-(x - 0.7)**2)\n",
    "optimize.minimize_scalar(f).x"
   ]
  },
  {
   "cell_type": "markdown",
   "metadata": {},
   "source": [
    "# minimize (vectors)"
   ]
  },
  {
   "cell_type": "markdown",
   "metadata": {},
   "source": [
    "We can use ‘Nelder-Mead’，‘Powell’ ，‘CG’ ，‘BFGS’ ，‘Newton-CG’ ，‘L-BFGS-B’，‘TNC’，‘COBYLA’，‘SLSQP’，‘trust-constr’，‘dogleg’，‘trust-ncg’，‘trust-exact’ ，‘trust-krylov’。"
   ]
  },
  {
   "cell_type": "code",
   "execution_count": 15,
   "metadata": {},
   "outputs": [
    {
     "data": {
      "text/plain": [
       "      fun: 0.1875000000007519\n",
       " hess_inv: array([[0.2846801 , 0.12287155],\n",
       "       [0.12287155, 0.24874162]])\n",
       "      jac: array([ 1.60187483e-06, -2.63191760e-06])\n",
       "  message: 'Optimization terminated successfully.'\n",
       "     nfev: 56\n",
       "      nit: 12\n",
       "     njev: 14\n",
       "   status: 0\n",
       "  success: True\n",
       "        x: array([2.25000016, 2.49999953])"
      ]
     },
     "execution_count": 15,
     "metadata": {},
     "output_type": "execute_result"
    }
   ],
   "source": [
    "from scipy.optimize import minimize\n",
    "import math\n",
    "def func(x):\n",
    "    result = math.pow(x[0] - x[1], 2) + math.pow(x[0] - 2, 2) + math.pow(x[1] - 3, 4)\n",
    "    return result\n",
    "minimize(func, [2, -1])"
   ]
  }
 ],
 "metadata": {
  "kernelspec": {
   "display_name": "Python 3",
   "language": "python",
   "name": "python3"
  },
  "language_info": {
   "codemirror_mode": {
    "name": "ipython",
    "version": 3
   },
   "file_extension": ".py",
   "mimetype": "text/x-python",
   "name": "python",
   "nbconvert_exporter": "python",
   "pygments_lexer": "ipython3",
   "version": "3.7.3"
  },
  "toc": {
   "base_numbering": 1,
   "nav_menu": {},
   "number_sections": true,
   "sideBar": true,
   "skip_h1_title": false,
   "title_cell": "Table of Contents",
   "title_sidebar": "Contents",
   "toc_cell": false,
   "toc_position": {},
   "toc_section_display": true,
   "toc_window_display": false
  }
 },
 "nbformat": 4,
 "nbformat_minor": 2
}
